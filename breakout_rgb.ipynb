{
 "cells": [
  {
   "cell_type": "code",
   "execution_count": 2,
   "id": "0d580682",
   "metadata": {},
   "outputs": [
    {
     "data": {
      "text/plain": [
       "True"
      ]
     },
     "execution_count": 2,
     "metadata": {},
     "output_type": "execute_result"
    }
   ],
   "source": [
    "# import gymnasium as gym\n",
    "import torch\n",
    "import torch.nn as nn\n",
    "from tqdm import tqdm\n",
    "import numpy as np\n",
    "import matplotlib.pyplot as plt\n",
    "\n",
    "import gymnasium as gym\n",
    "from stable_baselines3.common.atari_wrappers import MaxAndSkipEnv\n",
    "import ale_py\n",
    "# import ale_py\n",
    "\n",
    "torch.cuda.is_available()"
   ]
  },
  {
   "cell_type": "code",
   "execution_count": 3,
   "id": "5e9bd7b8",
   "metadata": {},
   "outputs": [],
   "source": [
    "\n",
    "class DQN(nn.Module):\n",
    "    def __init__(self, nb_actions):\n",
    "        super().__init__()\n",
    "        self.network = nn.Sequential(\n",
    "            nn.Conv2d(4, 16, 8, stride=4),\n",
    "            nn.ReLU(),\n",
    "            nn.Conv2d(16, 32, 4, stride=2),\n",
    "            nn.ReLU(),\n",
    "            nn.Flatten(),\n",
    "            nn.Linear(2592, 256),\n",
    "            nn.ReLU(),\n",
    "            nn.Linear(256, nb_actions),\n",
    "        )\n",
    "\n",
    "    def forward(self, x):\n",
    "        return self.network(x / 255.0)"
   ]
  },
  {
   "cell_type": "code",
   "execution_count": 4,
   "id": "575d44b5",
   "metadata": {},
   "outputs": [],
   "source": [
    "def Deep_Q_Learning(\n",
    "    env,\n",
    "    device=\"cuda\",\n",
    "    nb_steps = 3_000_000,\n",
    "    learning_rate=0.001\n",
    "):\n",
    "    q_network = DQN(env.action_space.n).to(device)\n",
    "    optimizer = torch.optim.Adam(q_network.parameters(), lr=learning_rate)\n",
    "\n",
    "    step = 0\n",
    "    av_rewards=[]\n",
    "    rewards = []\n",
    "\n",
    "    progress_bar = tqdm(total=nb_steps)\n",
    "    while step <= nb_steps:\n",
    "        done = False\n",
    "        total_rewards = 0\n",
    "\n",
    "        obs, info = env.reset()\n",
    "\n",
    "        while not done:\n",
    "            # random policy\n",
    "            action = env.action_space.sample()\n",
    "\n",
    "            # Execute action a in emulator and observe reward rt and image xt+1\n",
    "            next_obs, reward, terminated, truncated, info = env.step(action)\n",
    "            progress_bar.update(1)\n",
    "\n",
    "            done = terminated or truncated\n",
    "            total_rewards += reward\n",
    "\n",
    "            step += 1\n",
    "            if (step % 5_000 == 0) and step > 0:\n",
    "                av_rewards.append(np.mean(rewards))\n",
    "                rewards = []\n",
    "                plt.plot(av_rewards)\n",
    "                plt.title(\"Average Reward on Breakout\")\n",
    "                plt.xlabel(\"Training Epochs\")\n",
    "                plt.ylabel(\"Average Reward per Episode\")\n",
    "                plt.savefig(\"Imgs/average_reward_on_breakout.png\")\n",
    "                plt.close()\n",
    "                # torch.save(q_network.state_dict(), \"breakout_atari_ckpt.pth\")\n",
    "        rewards.append(total_rewards)"
   ]
  },
  {
   "cell_type": "code",
   "execution_count": null,
   "id": "49291919",
   "metadata": {},
   "outputs": [
    {
     "name": "stderr",
     "output_type": "stream",
     "text": [
      "  0%|          | 4980/3000000 [00:17<2:54:34, 285.92it/s]"
     ]
    }
   ],
   "source": [
    "env = gym.make(\"ALE/Breakout-v5\")\n",
    "# env = gym.wrappers.RecordEpisodeStatistics(env)\n",
    "env = gym.wrappers.ResizeObservation(env, (84, 84))\n",
    "env = gym.wrappers.GrayscaleObservation(env)\n",
    "env = gym.wrappers.FrameStackObservation(env, 4)\n",
    "env = MaxAndSkipEnv(env, skip=4)\n",
    "\n",
    "Deep_Q_Learning(env, device=\"cuda\")\n",
    "env.close()"
   ]
  }
 ],
 "metadata": {
  "kernelspec": {
   "display_name": "ale-py-env",
   "language": "python",
   "name": "python3"
  },
  "language_info": {
   "codemirror_mode": {
    "name": "ipython",
    "version": 3
   },
   "file_extension": ".py",
   "mimetype": "text/x-python",
   "name": "python",
   "nbconvert_exporter": "python",
   "pygments_lexer": "ipython3",
   "version": "3.13.5"
  }
 },
 "nbformat": 4,
 "nbformat_minor": 5
}
